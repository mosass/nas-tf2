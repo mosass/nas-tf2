{
 "nbformat": 4,
 "nbformat_minor": 2,
 "metadata": {
  "language_info": {
   "name": "python",
   "codemirror_mode": {
    "name": "ipython",
    "version": 2
   },
   "version": "3.7.5-final"
  },
  "orig_nbformat": 2,
  "file_extension": ".py",
  "mimetype": "text/x-python",
  "name": "python",
  "npconvert_exporter": "python",
  "pygments_lexer": "ipython2",
  "version": 2,
  "kernelspec": {
   "name": "python37564bittf2venvc8b629ebe0524d9f9a8acaa915081f11",
   "display_name": "Python 3.7.5 64-bit ('tf2': venv)"
  }
 },
 "cells": [
  {
   "cell_type": "code",
   "execution_count": 12,
   "metadata": {},
   "outputs": [],
   "source": [
    "import ConfigSpace as CS\n",
    "import ConfigSpace.hyperparameters as CSH\n",
    "\n",
    "MAX_EDGES=9\n",
    "VERTICES=7\n",
    "\n",
    "def get_configuration_space():\n",
    "    cs = CS.ConfigurationSpace()\n",
    "\n",
    "    ops_choices = ['conv1x1-bn-relu', 'conv3x3-bn-relu', 'maxpool3x3']\n",
    "    cs.add_hyperparameter(CS.CategoricalHyperparameter(\"op_node_0\", ops_choices))\n",
    "    cs.add_hyperparameter(CS.CategoricalHyperparameter(\"op_node_1\", ops_choices))\n",
    "    cs.add_hyperparameter(CS.CategoricalHyperparameter(\"op_node_2\", ops_choices))\n",
    "    cs.add_hyperparameter(CS.CategoricalHyperparameter(\"op_node_3\", ops_choices))\n",
    "    cs.add_hyperparameter(CS.CategoricalHyperparameter(\"op_node_4\", ops_choices))\n",
    "\n",
    "    cs.add_hyperparameter(CS.UniformIntegerHyperparameter(\"num_edges\", 0, MAX_EDGES))\n",
    "\n",
    "    for i in range(VERTICES * (VERTICES - 1) // 2):\n",
    "        cs.add_hyperparameter(CS.UniformFloatHyperparameter(\"edge_%d\" % i, 0, 1))\n",
    "    return cs\n",
    "\n",
    "cs = get_configuration_space()\n"
   ]
  },
  {
   "cell_type": "code",
   "execution_count": 15,
   "metadata": {},
   "outputs": [],
   "source": [
    "config = cs.sample_configuration()\n"
   ]
  },
  {
   "cell_type": "code",
   "execution_count": 16,
   "metadata": {},
   "outputs": [
    {
     "data": {
      "text/plain": "ConfigSpace.configuration_space.Configuration"
     },
     "execution_count": 16,
     "metadata": {},
     "output_type": "execute_result"
    }
   ],
   "source": [
    "type(config)"
   ]
  },
  {
   "cell_type": "code",
   "execution_count": null,
   "metadata": {},
   "outputs": [],
   "source": []
  }
 ]
}