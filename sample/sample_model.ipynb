{
 "nbformat": 4,
 "nbformat_minor": 2,
 "metadata": {
  "language_info": {
   "name": "python",
   "codemirror_mode": {
    "name": "ipython",
    "version": 2
   },
   "version": "3.7.7-final"
  },
  "orig_nbformat": 2,
  "file_extension": ".py",
  "mimetype": "text/x-python",
  "name": "python",
  "npconvert_exporter": "python",
  "pygments_lexer": "ipython2",
  "version": 2,
  "kernelspec": {
   "name": "python37664bit3f58223dffee4e7589f70290bea1e615",
   "display_name": "Python 3.7.6 64-bit"
  }
 },
 "cells": [
  {
   "cell_type": "code",
   "execution_count": 1,
   "metadata": {},
   "outputs": [],
   "source": [
    "from __future__ import absolute_import, division, print_function, unicode_literals\n",
    "\n",
    "\n",
    "import os\n",
    "import sys\n",
    "import tensorflow as tf\n",
    "import matplotlib.pyplot as plt\n",
    "import numpy as np\n",
    "\n",
    "module_path = os.path.abspath(os.path.join('..'))\n",
    "if module_path not in sys.path:\n",
    "    sys.path.append(module_path)\n",
    "\n",
    "from lib.cell import Cell\n",
    "from lib.spec import Spec\n",
    "from lib.model import NModel\n",
    "\n",
    "\n",
    "\n",
    "\n",
    "(train_validate_images, train_validate_labels), (test_images, test_labels) = tf.keras.datasets.cifar10.load_data()\n",
    "\n",
    "train_images ,validate_images = np.split(train_validate_images, [40000])\n",
    "train_labels ,validate_labels = np.split(train_validate_labels, [40000])\n",
    "\n",
    "# Normalize pixel values to be between 0 and 1\n",
    "train_images, validate_images, test_images = train_images / 255.0, validate_images / 255.0,test_images / 255.0"
   ]
  },
  {
   "cell_type": "code",
   "execution_count": 2,
   "metadata": {
    "tags": []
   },
   "outputs": [
    {
     "output_type": "stream",
     "name": "stdout",
     "text": "[[0 1 1 0]\n [0 0 0 1]\n [0 0 0 1]\n [0 0 0 0]]\n['input', 'conv1x1-bn-relu', 'conv3x3-bn-relu', 'output']\n"
    }
   ],
   "source": [
    "\n",
    "cf = Spec.get_spec_from_json('{\"edge_0\": 0, \"edge_1\": 0, \"edge_10\": 1, \"edge_11\": 0, \"edge_12\": 0, \"edge_13\": 1, \"edge_14\": 0, \"edge_15\": 0, \"edge_16\": 1, \"edge_17\": 1, \"edge_18\": 1, \"edge_19\": 1, \"edge_2\": 1, \"edge_20\": 0, \"edge_3\": 1, \"edge_4\": 1, \"edge_5\": 0, \"edge_6\": 0, \"edge_7\": 0, \"edge_8\": 1, \"edge_9\": 0, \"op_node_0\": \"conv3x3-bn-relu\", \"op_node_1\": \"conv1x1-bn-relu\", \"op_node_2\": \"conv1x1-bn-relu\", \"op_node_3\": \"conv3x3-bn-relu\", \"op_node_4\": \"conv3x3-bn-relu\"}')\n",
    "\n",
    "s = Spec(cf)\n",
    "\n",
    "print(s.matrix)\n",
    "print(s.ops)\n",
    "\n",
    "s.vi"
   ]
  },
  {
   "cell_type": "code",
   "execution_count": 4,
   "metadata": {
    "tags": [
     "outputPrepend"
    ]
   },
   "outputs": [
    {
     "output_type": "stream",
     "name": "stdout",
     "text": "___________________\nconcatenate_1 (Concatenate)     (None, 32, 32, 128)  0           re_lu_5[0][0]                    \n                                                                 re_lu_7[0][0]                    \n__________________________________________________________________________________________________\nconv2d_9 (Conv2D)               (None, 32, 32, 64)   8192        concatenate_1[0][0]              \n__________________________________________________________________________________________________\nconv2d_11 (Conv2D)              (None, 32, 32, 64)   8192        concatenate_1[0][0]              \n__________________________________________________________________________________________________\nbatch_normalization_8 (BatchNor (None, 32, 32, 64)   256         conv2d_9[0][0]                   \n__________________________________________________________________________________________________\nbatch_normalization_10 (BatchNo (None, 32, 32, 64)   256         conv2d_11[0][0]                  \n__________________________________________________________________________________________________\nre_lu_8 (ReLU)                  (None, 32, 32, 64)   0           batch_normalization_8[0][0]      \n__________________________________________________________________________________________________\nre_lu_10 (ReLU)                 (None, 32, 32, 64)   0           batch_normalization_10[0][0]     \n__________________________________________________________________________________________________\nconv2d_10 (Conv2D)              (None, 32, 32, 64)   4096        re_lu_8[0][0]                    \n__________________________________________________________________________________________________\nconv2d_12 (Conv2D)              (None, 32, 32, 64)   36864       re_lu_10[0][0]                   \n__________________________________________________________________________________________________\nbatch_normalization_9 (BatchNor (None, 32, 32, 64)   256         conv2d_10[0][0]                  \n__________________________________________________________________________________________________\nbatch_normalization_11 (BatchNo (None, 32, 32, 64)   256         conv2d_12[0][0]                  \n__________________________________________________________________________________________________\nre_lu_9 (ReLU)                  (None, 32, 32, 64)   0           batch_normalization_9[0][0]      \n__________________________________________________________________________________________________\nre_lu_11 (ReLU)                 (None, 32, 32, 64)   0           batch_normalization_11[0][0]     \n__________________________________________________________________________________________________\nconcatenate_2 (Concatenate)     (None, 32, 32, 128)  0           re_lu_9[0][0]                    \n                                                                 re_lu_11[0][0]                   \n__________________________________________________________________________________________________\nmax_pooling2d (MaxPooling2D)    (None, 16, 16, 128)  0           concatenate_2[0][0]              \n__________________________________________________________________________________________________\nconv2d_13 (Conv2D)              (None, 16, 16, 128)  16384       max_pooling2d[0][0]              \n__________________________________________________________________________________________________\nconv2d_15 (Conv2D)              (None, 16, 16, 128)  16384       max_pooling2d[0][0]              \n__________________________________________________________________________________________________\nbatch_normalization_12 (BatchNo (None, 16, 16, 128)  512         conv2d_13[0][0]                  \n__________________________________________________________________________________________________\nbatch_normalization_14 (BatchNo (None, 16, 16, 128)  512         conv2d_15[0][0]                  \n__________________________________________________________________________________________________\nre_lu_12 (ReLU)                 (None, 16, 16, 128)  0           batch_normalization_12[0][0]     \n__________________________________________________________________________________________________\nre_lu_14 (ReLU)                 (None, 16, 16, 128)  0           batch_normalization_14[0][0]     \n__________________________________________________________________________________________________\nconv2d_14 (Conv2D)              (None, 16, 16, 128)  16384       re_lu_12[0][0]                   \n__________________________________________________________________________________________________\nconv2d_16 (Conv2D)              (None, 16, 16, 128)  147456      re_lu_14[0][0]                   \n__________________________________________________________________________________________________\nbatch_normalization_13 (BatchNo (None, 16, 16, 128)  512         conv2d_14[0][0]                  \n__________________________________________________________________________________________________\nbatch_normalization_15 (BatchNo (None, 16, 16, 128)  512         conv2d_16[0][0]                  \n__________________________________________________________________________________________________\nre_lu_13 (ReLU)                 (None, 16, 16, 128)  0           batch_normalization_13[0][0]     \n__________________________________________________________________________________________________\nre_lu_15 (ReLU)                 (None, 16, 16, 128)  0           batch_normalization_15[0][0]     \n__________________________________________________________________________________________________\nconcatenate_3 (Concatenate)     (None, 16, 16, 256)  0           re_lu_13[0][0]                   \n                                                                 re_lu_15[0][0]                   \n__________________________________________________________________________________________________\nconv2d_17 (Conv2D)              (None, 16, 16, 128)  32768       concatenate_3[0][0]              \n__________________________________________________________________________________________________\nconv2d_19 (Conv2D)              (None, 16, 16, 128)  32768       concatenate_3[0][0]              \n__________________________________________________________________________________________________\nbatch_normalization_16 (BatchNo (None, 16, 16, 128)  512         conv2d_17[0][0]                  \n__________________________________________________________________________________________________\nbatch_normalization_18 (BatchNo (None, 16, 16, 128)  512         conv2d_19[0][0]                  \n__________________________________________________________________________________________________\nre_lu_16 (ReLU)                 (None, 16, 16, 128)  0           batch_normalization_16[0][0]     \n__________________________________________________________________________________________________\nre_lu_18 (ReLU)                 (None, 16, 16, 128)  0           batch_normalization_18[0][0]     \n__________________________________________________________________________________________________\nconv2d_18 (Conv2D)              (None, 16, 16, 128)  16384       re_lu_16[0][0]                   \n__________________________________________________________________________________________________\nconv2d_20 (Conv2D)              (None, 16, 16, 128)  147456      re_lu_18[0][0]                   \n__________________________________________________________________________________________________\nbatch_normalization_17 (BatchNo (None, 16, 16, 128)  512         conv2d_18[0][0]                  \n__________________________________________________________________________________________________\nbatch_normalization_19 (BatchNo (None, 16, 16, 128)  512         conv2d_20[0][0]                  \n__________________________________________________________________________________________________\nre_lu_17 (ReLU)                 (None, 16, 16, 128)  0           batch_normalization_17[0][0]     \n__________________________________________________________________________________________________\nre_lu_19 (ReLU)                 (None, 16, 16, 128)  0           batch_normalization_19[0][0]     \n__________________________________________________________________________________________________\nconcatenate_4 (Concatenate)     (None, 16, 16, 256)  0           re_lu_17[0][0]                   \n                                                                 re_lu_19[0][0]                   \n__________________________________________________________________________________________________\nconv2d_21 (Conv2D)              (None, 16, 16, 128)  32768       concatenate_4[0][0]              \n__________________________________________________________________________________________________\nconv2d_23 (Conv2D)              (None, 16, 16, 128)  32768       concatenate_4[0][0]              \n__________________________________________________________________________________________________\nbatch_normalization_20 (BatchNo (None, 16, 16, 128)  512         conv2d_21[0][0]                  \n__________________________________________________________________________________________________\nbatch_normalization_22 (BatchNo (None, 16, 16, 128)  512         conv2d_23[0][0]                  \n__________________________________________________________________________________________________\nre_lu_20 (ReLU)                 (None, 16, 16, 128)  0           batch_normalization_20[0][0]     \n__________________________________________________________________________________________________\nre_lu_22 (ReLU)                 (None, 16, 16, 128)  0           batch_normalization_22[0][0]     \n__________________________________________________________________________________________________\nconv2d_22 (Conv2D)              (None, 16, 16, 128)  16384       re_lu_20[0][0]                   \n__________________________________________________________________________________________________\nconv2d_24 (Conv2D)              (None, 16, 16, 128)  147456      re_lu_22[0][0]                   \n__________________________________________________________________________________________________\nbatch_normalization_21 (BatchNo (None, 16, 16, 128)  512         conv2d_22[0][0]                  \n__________________________________________________________________________________________________\nbatch_normalization_23 (BatchNo (None, 16, 16, 128)  512         conv2d_24[0][0]                  \n__________________________________________________________________________________________________\nre_lu_21 (ReLU)                 (None, 16, 16, 128)  0           batch_normalization_21[0][0]     \n__________________________________________________________________________________________________\nre_lu_23 (ReLU)                 (None, 16, 16, 128)  0           batch_normalization_23[0][0]     \n__________________________________________________________________________________________________\nconcatenate_5 (Concatenate)     (None, 16, 16, 256)  0           re_lu_21[0][0]                   \n                                                                 re_lu_23[0][0]                   \n__________________________________________________________________________________________________\nmax_pooling2d_1 (MaxPooling2D)  (None, 8, 8, 256)    0           concatenate_5[0][0]              \n__________________________________________________________________________________________________\nconv2d_25 (Conv2D)              (None, 8, 8, 256)    65536       max_pooling2d_1[0][0]            \n__________________________________________________________________________________________________\nconv2d_27 (Conv2D)              (None, 8, 8, 256)    65536       max_pooling2d_1[0][0]            \n__________________________________________________________________________________________________\nbatch_normalization_24 (BatchNo (None, 8, 8, 256)    1024        conv2d_25[0][0]                  \n__________________________________________________________________________________________________\nbatch_normalization_26 (BatchNo (None, 8, 8, 256)    1024        conv2d_27[0][0]                  \n__________________________________________________________________________________________________\nre_lu_24 (ReLU)                 (None, 8, 8, 256)    0           batch_normalization_24[0][0]     \n__________________________________________________________________________________________________\nre_lu_26 (ReLU)                 (None, 8, 8, 256)    0           batch_normalization_26[0][0]     \n__________________________________________________________________________________________________\nconv2d_26 (Conv2D)              (None, 8, 8, 256)    65536       re_lu_24[0][0]                   \n__________________________________________________________________________________________________\nconv2d_28 (Conv2D)              (None, 8, 8, 256)    589824      re_lu_26[0][0]                   \n__________________________________________________________________________________________________\nbatch_normalization_25 (BatchNo (None, 8, 8, 256)    1024        conv2d_26[0][0]                  \n__________________________________________________________________________________________________\nbatch_normalization_27 (BatchNo (None, 8, 8, 256)    1024        conv2d_28[0][0]                  \n__________________________________________________________________________________________________\nre_lu_25 (ReLU)                 (None, 8, 8, 256)    0           batch_normalization_25[0][0]     \n__________________________________________________________________________________________________\nre_lu_27 (ReLU)                 (None, 8, 8, 256)    0           batch_normalization_27[0][0]     \n__________________________________________________________________________________________________\nconcatenate_6 (Concatenate)     (None, 8, 8, 512)    0           re_lu_25[0][0]                   \n                                                                 re_lu_27[0][0]                   \n__________________________________________________________________________________________________\nconv2d_29 (Conv2D)              (None, 8, 8, 256)    131072      concatenate_6[0][0]              \n__________________________________________________________________________________________________\nconv2d_31 (Conv2D)              (None, 8, 8, 256)    131072      concatenate_6[0][0]              \n__________________________________________________________________________________________________\nbatch_normalization_28 (BatchNo (None, 8, 8, 256)    1024        conv2d_29[0][0]                  \n__________________________________________________________________________________________________\nbatch_normalization_30 (BatchNo (None, 8, 8, 256)    1024        conv2d_31[0][0]                  \n__________________________________________________________________________________________________\nre_lu_28 (ReLU)                 (None, 8, 8, 256)    0           batch_normalization_28[0][0]     \n__________________________________________________________________________________________________\nre_lu_30 (ReLU)                 (None, 8, 8, 256)    0           batch_normalization_30[0][0]     \n__________________________________________________________________________________________________\nconv2d_30 (Conv2D)              (None, 8, 8, 256)    65536       re_lu_28[0][0]                   \n__________________________________________________________________________________________________\nconv2d_32 (Conv2D)              (None, 8, 8, 256)    589824      re_lu_30[0][0]                   \n__________________________________________________________________________________________________\nbatch_normalization_29 (BatchNo (None, 8, 8, 256)    1024        conv2d_30[0][0]                  \n__________________________________________________________________________________________________\nbatch_normalization_31 (BatchNo (None, 8, 8, 256)    1024        conv2d_32[0][0]                  \n__________________________________________________________________________________________________\nre_lu_29 (ReLU)                 (None, 8, 8, 256)    0           batch_normalization_29[0][0]     \n__________________________________________________________________________________________________\nre_lu_31 (ReLU)                 (None, 8, 8, 256)    0           batch_normalization_31[0][0]     \n__________________________________________________________________________________________________\nconcatenate_7 (Concatenate)     (None, 8, 8, 512)    0           re_lu_29[0][0]                   \n                                                                 re_lu_31[0][0]                   \n__________________________________________________________________________________________________\nconv2d_33 (Conv2D)              (None, 8, 8, 256)    131072      concatenate_7[0][0]              \n__________________________________________________________________________________________________\nconv2d_35 (Conv2D)              (None, 8, 8, 256)    131072      concatenate_7[0][0]              \n__________________________________________________________________________________________________\nbatch_normalization_32 (BatchNo (None, 8, 8, 256)    1024        conv2d_33[0][0]                  \n__________________________________________________________________________________________________\nbatch_normalization_34 (BatchNo (None, 8, 8, 256)    1024        conv2d_35[0][0]                  \n__________________________________________________________________________________________________\nre_lu_32 (ReLU)                 (None, 8, 8, 256)    0           batch_normalization_32[0][0]     \n__________________________________________________________________________________________________\nre_lu_34 (ReLU)                 (None, 8, 8, 256)    0           batch_normalization_34[0][0]     \n__________________________________________________________________________________________________\nconv2d_34 (Conv2D)              (None, 8, 8, 256)    65536       re_lu_32[0][0]                   \n__________________________________________________________________________________________________\nconv2d_36 (Conv2D)              (None, 8, 8, 256)    589824      re_lu_34[0][0]                   \n__________________________________________________________________________________________________\nbatch_normalization_33 (BatchNo (None, 8, 8, 256)    1024        conv2d_34[0][0]                  \n__________________________________________________________________________________________________\nbatch_normalization_35 (BatchNo (None, 8, 8, 256)    1024        conv2d_36[0][0]                  \n__________________________________________________________________________________________________\nre_lu_33 (ReLU)                 (None, 8, 8, 256)    0           batch_normalization_33[0][0]     \n__________________________________________________________________________________________________\nre_lu_35 (ReLU)                 (None, 8, 8, 256)    0           batch_normalization_35[0][0]     \n__________________________________________________________________________________________________\nconcatenate_8 (Concatenate)     (None, 8, 8, 512)    0           re_lu_33[0][0]                   \n                                                                 re_lu_35[0][0]                   \n__________________________________________________________________________________________________\ntf_op_layer_Mean (TensorFlowOpL [(None, 512)]        0           concatenate_8[0][0]              \n__________________________________________________________________________________________________\ndense (Dense)                   (None, 10)           5130        tf_op_layer_Mean[0][0]           \n==================================================================================================\nTotal params: 3,478,922\nTrainable params: 3,468,170\nNon-trainable params: 10,752\n__________________________________________________________________________________________________\n"
    }
   ],
   "source": [
    "i = tf.keras.Input(shape=(32, 32, 3))\n",
    "nModel = NModel(spec=s, name=\"test\")\n",
    "model = nModel.build()\n",
    "model.summary()"
   ]
  },
  {
   "cell_type": "code",
   "execution_count": 6,
   "metadata": {
    "tags": []
   },
   "outputs": [
    {
     "output_type": "stream",
     "name": "stdout",
     "text": "Train on 40000 samples, validate on 10000 samples\nEpoch 1/12\n 1024/40000 [..............................] - ETA: 22:49 - loss: 2.3323 - accuracy: 0.1224"
    },
    {
     "output_type": "error",
     "ename": "KeyboardInterrupt",
     "evalue": "",
     "traceback": [
      "\u001b[0;31m---------------------------------------------------------------------------\u001b[0m",
      "\u001b[0;31mKeyboardInterrupt\u001b[0m                         Traceback (most recent call last)",
      "\u001b[0;32m<ipython-input-6-70794baeb549>\u001b[0m in \u001b[0;36m<module>\u001b[0;34m\u001b[0m\n\u001b[0;32m----> 1\u001b[0;31m \u001b[0mdata\u001b[0m \u001b[0;34m=\u001b[0m \u001b[0mnModel\u001b[0m\u001b[0;34m.\u001b[0m\u001b[0mtrain_and_evaluate\u001b[0m\u001b[0;34m(\u001b[0m\u001b[0;34m)\u001b[0m\u001b[0;34m\u001b[0m\u001b[0;34m\u001b[0m\u001b[0m\n\u001b[0m\u001b[1;32m      2\u001b[0m \u001b[0mdata\u001b[0m\u001b[0;34m\u001b[0m\u001b[0;34m\u001b[0m\u001b[0m\n",
      "\u001b[0;32m~/Working/github.com/mosass/nas-tf2/lib/model.py\u001b[0m in \u001b[0;36mtrain_and_evaluate\u001b[0;34m(self)\u001b[0m\n\u001b[1;32m     74\u001b[0m     history = self.model.fit(train_images, train_labels, epochs=12, batch_size=256,\n\u001b[1;32m     75\u001b[0m                   \u001b[0mcallbacks\u001b[0m\u001b[0;34m=\u001b[0m\u001b[0;34m[\u001b[0m\u001b[0mtime_his\u001b[0m\u001b[0;34m]\u001b[0m\u001b[0;34m,\u001b[0m\u001b[0;34m\u001b[0m\u001b[0;34m\u001b[0m\u001b[0m\n\u001b[0;32m---> 76\u001b[0;31m                   validation_data=(validate_images, validate_labels))\n\u001b[0m\u001b[1;32m     77\u001b[0m     \u001b[0mevaluate\u001b[0m \u001b[0;34m=\u001b[0m \u001b[0mself\u001b[0m\u001b[0;34m.\u001b[0m\u001b[0mmodel\u001b[0m\u001b[0;34m.\u001b[0m\u001b[0mevaluate\u001b[0m\u001b[0;34m(\u001b[0m\u001b[0mtest_images\u001b[0m\u001b[0;34m,\u001b[0m \u001b[0mtest_labels\u001b[0m\u001b[0;34m)\u001b[0m\u001b[0;34m\u001b[0m\u001b[0;34m\u001b[0m\u001b[0m\n\u001b[1;32m     78\u001b[0m \u001b[0;34m\u001b[0m\u001b[0m\n",
      "\u001b[0;32m~/Working/github.com/mosass/nas-tf2/venv/tf2/lib/python3.7/site-packages/tensorflow_core/python/keras/engine/training.py\u001b[0m in \u001b[0;36mfit\u001b[0;34m(self, x, y, batch_size, epochs, verbose, callbacks, validation_split, validation_data, shuffle, class_weight, sample_weight, initial_epoch, steps_per_epoch, validation_steps, validation_freq, max_queue_size, workers, use_multiprocessing, **kwargs)\u001b[0m\n\u001b[1;32m    817\u001b[0m         \u001b[0mmax_queue_size\u001b[0m\u001b[0;34m=\u001b[0m\u001b[0mmax_queue_size\u001b[0m\u001b[0;34m,\u001b[0m\u001b[0;34m\u001b[0m\u001b[0;34m\u001b[0m\u001b[0m\n\u001b[1;32m    818\u001b[0m         \u001b[0mworkers\u001b[0m\u001b[0;34m=\u001b[0m\u001b[0mworkers\u001b[0m\u001b[0;34m,\u001b[0m\u001b[0;34m\u001b[0m\u001b[0;34m\u001b[0m\u001b[0m\n\u001b[0;32m--> 819\u001b[0;31m         use_multiprocessing=use_multiprocessing)\n\u001b[0m\u001b[1;32m    820\u001b[0m \u001b[0;34m\u001b[0m\u001b[0m\n\u001b[1;32m    821\u001b[0m   def evaluate(self,\n",
      "\u001b[0;32m~/Working/github.com/mosass/nas-tf2/venv/tf2/lib/python3.7/site-packages/tensorflow_core/python/keras/engine/training_v2.py\u001b[0m in \u001b[0;36mfit\u001b[0;34m(self, model, x, y, batch_size, epochs, verbose, callbacks, validation_split, validation_data, shuffle, class_weight, sample_weight, initial_epoch, steps_per_epoch, validation_steps, validation_freq, max_queue_size, workers, use_multiprocessing, **kwargs)\u001b[0m\n\u001b[1;32m    340\u001b[0m                 \u001b[0mmode\u001b[0m\u001b[0;34m=\u001b[0m\u001b[0mModeKeys\u001b[0m\u001b[0;34m.\u001b[0m\u001b[0mTRAIN\u001b[0m\u001b[0;34m,\u001b[0m\u001b[0;34m\u001b[0m\u001b[0;34m\u001b[0m\u001b[0m\n\u001b[1;32m    341\u001b[0m                 \u001b[0mtraining_context\u001b[0m\u001b[0;34m=\u001b[0m\u001b[0mtraining_context\u001b[0m\u001b[0;34m,\u001b[0m\u001b[0;34m\u001b[0m\u001b[0;34m\u001b[0m\u001b[0m\n\u001b[0;32m--> 342\u001b[0;31m                 total_epochs=epochs)\n\u001b[0m\u001b[1;32m    343\u001b[0m             \u001b[0mcbks\u001b[0m\u001b[0;34m.\u001b[0m\u001b[0mmake_logs\u001b[0m\u001b[0;34m(\u001b[0m\u001b[0mmodel\u001b[0m\u001b[0;34m,\u001b[0m \u001b[0mepoch_logs\u001b[0m\u001b[0;34m,\u001b[0m \u001b[0mtraining_result\u001b[0m\u001b[0;34m,\u001b[0m \u001b[0mModeKeys\u001b[0m\u001b[0;34m.\u001b[0m\u001b[0mTRAIN\u001b[0m\u001b[0;34m)\u001b[0m\u001b[0;34m\u001b[0m\u001b[0;34m\u001b[0m\u001b[0m\n\u001b[1;32m    344\u001b[0m \u001b[0;34m\u001b[0m\u001b[0m\n",
      "\u001b[0;32m~/Working/github.com/mosass/nas-tf2/venv/tf2/lib/python3.7/site-packages/tensorflow_core/python/keras/engine/training_v2.py\u001b[0m in \u001b[0;36mrun_one_epoch\u001b[0;34m(model, iterator, execution_function, dataset_size, batch_size, strategy, steps_per_epoch, num_samples, mode, training_context, total_epochs)\u001b[0m\n\u001b[1;32m    126\u001b[0m         step=step, mode=mode, size=current_batch_size) as batch_logs:\n\u001b[1;32m    127\u001b[0m       \u001b[0;32mtry\u001b[0m\u001b[0;34m:\u001b[0m\u001b[0;34m\u001b[0m\u001b[0;34m\u001b[0m\u001b[0m\n\u001b[0;32m--> 128\u001b[0;31m         \u001b[0mbatch_outs\u001b[0m \u001b[0;34m=\u001b[0m \u001b[0mexecution_function\u001b[0m\u001b[0;34m(\u001b[0m\u001b[0miterator\u001b[0m\u001b[0;34m)\u001b[0m\u001b[0;34m\u001b[0m\u001b[0;34m\u001b[0m\u001b[0m\n\u001b[0m\u001b[1;32m    129\u001b[0m       \u001b[0;32mexcept\u001b[0m \u001b[0;34m(\u001b[0m\u001b[0mStopIteration\u001b[0m\u001b[0;34m,\u001b[0m \u001b[0merrors\u001b[0m\u001b[0;34m.\u001b[0m\u001b[0mOutOfRangeError\u001b[0m\u001b[0;34m)\u001b[0m\u001b[0;34m:\u001b[0m\u001b[0;34m\u001b[0m\u001b[0;34m\u001b[0m\u001b[0m\n\u001b[1;32m    130\u001b[0m         \u001b[0;31m# TODO(kaftan): File bug about tf function and errors.OutOfRangeError?\u001b[0m\u001b[0;34m\u001b[0m\u001b[0;34m\u001b[0m\u001b[0;34m\u001b[0m\u001b[0m\n",
      "\u001b[0;32m~/Working/github.com/mosass/nas-tf2/venv/tf2/lib/python3.7/site-packages/tensorflow_core/python/keras/engine/training_v2_utils.py\u001b[0m in \u001b[0;36mexecution_function\u001b[0;34m(input_fn)\u001b[0m\n\u001b[1;32m     96\u001b[0m     \u001b[0;31m# `numpy` translates Tensors to values in Eager mode.\u001b[0m\u001b[0;34m\u001b[0m\u001b[0;34m\u001b[0m\u001b[0;34m\u001b[0m\u001b[0m\n\u001b[1;32m     97\u001b[0m     return nest.map_structure(_non_none_constant_value,\n\u001b[0;32m---> 98\u001b[0;31m                               distributed_function(input_fn))\n\u001b[0m\u001b[1;32m     99\u001b[0m \u001b[0;34m\u001b[0m\u001b[0m\n\u001b[1;32m    100\u001b[0m   \u001b[0;32mreturn\u001b[0m \u001b[0mexecution_function\u001b[0m\u001b[0;34m\u001b[0m\u001b[0;34m\u001b[0m\u001b[0m\n",
      "\u001b[0;32m~/Working/github.com/mosass/nas-tf2/venv/tf2/lib/python3.7/site-packages/tensorflow_core/python/eager/def_function.py\u001b[0m in \u001b[0;36m__call__\u001b[0;34m(self, *args, **kwds)\u001b[0m\n\u001b[1;32m    566\u001b[0m         \u001b[0mxla_context\u001b[0m\u001b[0;34m.\u001b[0m\u001b[0mExit\u001b[0m\u001b[0;34m(\u001b[0m\u001b[0;34m)\u001b[0m\u001b[0;34m\u001b[0m\u001b[0;34m\u001b[0m\u001b[0m\n\u001b[1;32m    567\u001b[0m     \u001b[0;32melse\u001b[0m\u001b[0;34m:\u001b[0m\u001b[0;34m\u001b[0m\u001b[0;34m\u001b[0m\u001b[0m\n\u001b[0;32m--> 568\u001b[0;31m       \u001b[0mresult\u001b[0m \u001b[0;34m=\u001b[0m \u001b[0mself\u001b[0m\u001b[0;34m.\u001b[0m\u001b[0m_call\u001b[0m\u001b[0;34m(\u001b[0m\u001b[0;34m*\u001b[0m\u001b[0margs\u001b[0m\u001b[0;34m,\u001b[0m \u001b[0;34m**\u001b[0m\u001b[0mkwds\u001b[0m\u001b[0;34m)\u001b[0m\u001b[0;34m\u001b[0m\u001b[0;34m\u001b[0m\u001b[0m\n\u001b[0m\u001b[1;32m    569\u001b[0m \u001b[0;34m\u001b[0m\u001b[0m\n\u001b[1;32m    570\u001b[0m     \u001b[0;32mif\u001b[0m \u001b[0mtracing_count\u001b[0m \u001b[0;34m==\u001b[0m \u001b[0mself\u001b[0m\u001b[0;34m.\u001b[0m\u001b[0m_get_tracing_count\u001b[0m\u001b[0;34m(\u001b[0m\u001b[0;34m)\u001b[0m\u001b[0;34m:\u001b[0m\u001b[0;34m\u001b[0m\u001b[0;34m\u001b[0m\u001b[0m\n",
      "\u001b[0;32m~/Working/github.com/mosass/nas-tf2/venv/tf2/lib/python3.7/site-packages/tensorflow_core/python/eager/def_function.py\u001b[0m in \u001b[0;36m_call\u001b[0;34m(self, *args, **kwds)\u001b[0m\n\u001b[1;32m    597\u001b[0m       \u001b[0;31m# In this case we have created variables on the first call, so we run the\u001b[0m\u001b[0;34m\u001b[0m\u001b[0;34m\u001b[0m\u001b[0;34m\u001b[0m\u001b[0m\n\u001b[1;32m    598\u001b[0m       \u001b[0;31m# defunned version which is guaranteed to never create variables.\u001b[0m\u001b[0;34m\u001b[0m\u001b[0;34m\u001b[0m\u001b[0;34m\u001b[0m\u001b[0m\n\u001b[0;32m--> 599\u001b[0;31m       \u001b[0;32mreturn\u001b[0m \u001b[0mself\u001b[0m\u001b[0;34m.\u001b[0m\u001b[0m_stateless_fn\u001b[0m\u001b[0;34m(\u001b[0m\u001b[0;34m*\u001b[0m\u001b[0margs\u001b[0m\u001b[0;34m,\u001b[0m \u001b[0;34m**\u001b[0m\u001b[0mkwds\u001b[0m\u001b[0;34m)\u001b[0m  \u001b[0;31m# pylint: disable=not-callable\u001b[0m\u001b[0;34m\u001b[0m\u001b[0;34m\u001b[0m\u001b[0m\n\u001b[0m\u001b[1;32m    600\u001b[0m     \u001b[0;32melif\u001b[0m \u001b[0mself\u001b[0m\u001b[0;34m.\u001b[0m\u001b[0m_stateful_fn\u001b[0m \u001b[0;32mis\u001b[0m \u001b[0;32mnot\u001b[0m \u001b[0;32mNone\u001b[0m\u001b[0;34m:\u001b[0m\u001b[0;34m\u001b[0m\u001b[0;34m\u001b[0m\u001b[0m\n\u001b[1;32m    601\u001b[0m       \u001b[0;31m# Release the lock early so that multiple threads can perform the call\u001b[0m\u001b[0;34m\u001b[0m\u001b[0;34m\u001b[0m\u001b[0;34m\u001b[0m\u001b[0m\n",
      "\u001b[0;32m~/Working/github.com/mosass/nas-tf2/venv/tf2/lib/python3.7/site-packages/tensorflow_core/python/eager/function.py\u001b[0m in \u001b[0;36m__call__\u001b[0;34m(self, *args, **kwargs)\u001b[0m\n\u001b[1;32m   2361\u001b[0m     \u001b[0;32mwith\u001b[0m \u001b[0mself\u001b[0m\u001b[0;34m.\u001b[0m\u001b[0m_lock\u001b[0m\u001b[0;34m:\u001b[0m\u001b[0;34m\u001b[0m\u001b[0;34m\u001b[0m\u001b[0m\n\u001b[1;32m   2362\u001b[0m       \u001b[0mgraph_function\u001b[0m\u001b[0;34m,\u001b[0m \u001b[0margs\u001b[0m\u001b[0;34m,\u001b[0m \u001b[0mkwargs\u001b[0m \u001b[0;34m=\u001b[0m \u001b[0mself\u001b[0m\u001b[0;34m.\u001b[0m\u001b[0m_maybe_define_function\u001b[0m\u001b[0;34m(\u001b[0m\u001b[0margs\u001b[0m\u001b[0;34m,\u001b[0m \u001b[0mkwargs\u001b[0m\u001b[0;34m)\u001b[0m\u001b[0;34m\u001b[0m\u001b[0;34m\u001b[0m\u001b[0m\n\u001b[0;32m-> 2363\u001b[0;31m     \u001b[0;32mreturn\u001b[0m \u001b[0mgraph_function\u001b[0m\u001b[0;34m.\u001b[0m\u001b[0m_filtered_call\u001b[0m\u001b[0;34m(\u001b[0m\u001b[0margs\u001b[0m\u001b[0;34m,\u001b[0m \u001b[0mkwargs\u001b[0m\u001b[0;34m)\u001b[0m  \u001b[0;31m# pylint: disable=protected-access\u001b[0m\u001b[0;34m\u001b[0m\u001b[0;34m\u001b[0m\u001b[0m\n\u001b[0m\u001b[1;32m   2364\u001b[0m \u001b[0;34m\u001b[0m\u001b[0m\n\u001b[1;32m   2365\u001b[0m   \u001b[0;34m@\u001b[0m\u001b[0mproperty\u001b[0m\u001b[0;34m\u001b[0m\u001b[0;34m\u001b[0m\u001b[0m\n",
      "\u001b[0;32m~/Working/github.com/mosass/nas-tf2/venv/tf2/lib/python3.7/site-packages/tensorflow_core/python/eager/function.py\u001b[0m in \u001b[0;36m_filtered_call\u001b[0;34m(self, args, kwargs)\u001b[0m\n\u001b[1;32m   1609\u001b[0m          if isinstance(t, (ops.Tensor,\n\u001b[1;32m   1610\u001b[0m                            resource_variable_ops.BaseResourceVariable))),\n\u001b[0;32m-> 1611\u001b[0;31m         self.captured_inputs)\n\u001b[0m\u001b[1;32m   1612\u001b[0m \u001b[0;34m\u001b[0m\u001b[0m\n\u001b[1;32m   1613\u001b[0m   \u001b[0;32mdef\u001b[0m \u001b[0m_call_flat\u001b[0m\u001b[0;34m(\u001b[0m\u001b[0mself\u001b[0m\u001b[0;34m,\u001b[0m \u001b[0margs\u001b[0m\u001b[0;34m,\u001b[0m \u001b[0mcaptured_inputs\u001b[0m\u001b[0;34m,\u001b[0m \u001b[0mcancellation_manager\u001b[0m\u001b[0;34m=\u001b[0m\u001b[0;32mNone\u001b[0m\u001b[0;34m)\u001b[0m\u001b[0;34m:\u001b[0m\u001b[0;34m\u001b[0m\u001b[0;34m\u001b[0m\u001b[0m\n",
      "\u001b[0;32m~/Working/github.com/mosass/nas-tf2/venv/tf2/lib/python3.7/site-packages/tensorflow_core/python/eager/function.py\u001b[0m in \u001b[0;36m_call_flat\u001b[0;34m(self, args, captured_inputs, cancellation_manager)\u001b[0m\n\u001b[1;32m   1690\u001b[0m       \u001b[0;31m# No tape is watching; skip to running the function.\u001b[0m\u001b[0;34m\u001b[0m\u001b[0;34m\u001b[0m\u001b[0;34m\u001b[0m\u001b[0m\n\u001b[1;32m   1691\u001b[0m       return self._build_call_outputs(self._inference_function.call(\n\u001b[0;32m-> 1692\u001b[0;31m           ctx, args, cancellation_manager=cancellation_manager))\n\u001b[0m\u001b[1;32m   1693\u001b[0m     forward_backward = self._select_forward_and_backward_functions(\n\u001b[1;32m   1694\u001b[0m         \u001b[0margs\u001b[0m\u001b[0;34m,\u001b[0m\u001b[0;34m\u001b[0m\u001b[0;34m\u001b[0m\u001b[0m\n",
      "\u001b[0;32m~/Working/github.com/mosass/nas-tf2/venv/tf2/lib/python3.7/site-packages/tensorflow_core/python/eager/function.py\u001b[0m in \u001b[0;36mcall\u001b[0;34m(self, ctx, args, cancellation_manager)\u001b[0m\n\u001b[1;32m    543\u001b[0m               \u001b[0minputs\u001b[0m\u001b[0;34m=\u001b[0m\u001b[0margs\u001b[0m\u001b[0;34m,\u001b[0m\u001b[0;34m\u001b[0m\u001b[0;34m\u001b[0m\u001b[0m\n\u001b[1;32m    544\u001b[0m               \u001b[0mattrs\u001b[0m\u001b[0;34m=\u001b[0m\u001b[0;34m(\u001b[0m\u001b[0;34m\"executor_type\"\u001b[0m\u001b[0;34m,\u001b[0m \u001b[0mexecutor_type\u001b[0m\u001b[0;34m,\u001b[0m \u001b[0;34m\"config_proto\"\u001b[0m\u001b[0;34m,\u001b[0m \u001b[0mconfig\u001b[0m\u001b[0;34m)\u001b[0m\u001b[0;34m,\u001b[0m\u001b[0;34m\u001b[0m\u001b[0;34m\u001b[0m\u001b[0m\n\u001b[0;32m--> 545\u001b[0;31m               ctx=ctx)\n\u001b[0m\u001b[1;32m    546\u001b[0m         \u001b[0;32melse\u001b[0m\u001b[0;34m:\u001b[0m\u001b[0;34m\u001b[0m\u001b[0;34m\u001b[0m\u001b[0m\n\u001b[1;32m    547\u001b[0m           outputs = execute.execute_with_cancellation(\n",
      "\u001b[0;32m~/Working/github.com/mosass/nas-tf2/venv/tf2/lib/python3.7/site-packages/tensorflow_core/python/eager/execute.py\u001b[0m in \u001b[0;36mquick_execute\u001b[0;34m(op_name, num_outputs, inputs, attrs, ctx, name)\u001b[0m\n\u001b[1;32m     59\u001b[0m     tensors = pywrap_tensorflow.TFE_Py_Execute(ctx._handle, device_name,\n\u001b[1;32m     60\u001b[0m                                                \u001b[0mop_name\u001b[0m\u001b[0;34m,\u001b[0m \u001b[0minputs\u001b[0m\u001b[0;34m,\u001b[0m \u001b[0mattrs\u001b[0m\u001b[0;34m,\u001b[0m\u001b[0;34m\u001b[0m\u001b[0;34m\u001b[0m\u001b[0m\n\u001b[0;32m---> 61\u001b[0;31m                                                num_outputs)\n\u001b[0m\u001b[1;32m     62\u001b[0m   \u001b[0;32mexcept\u001b[0m \u001b[0mcore\u001b[0m\u001b[0;34m.\u001b[0m\u001b[0m_NotOkStatusException\u001b[0m \u001b[0;32mas\u001b[0m \u001b[0me\u001b[0m\u001b[0;34m:\u001b[0m\u001b[0;34m\u001b[0m\u001b[0;34m\u001b[0m\u001b[0m\n\u001b[1;32m     63\u001b[0m     \u001b[0;32mif\u001b[0m \u001b[0mname\u001b[0m \u001b[0;32mis\u001b[0m \u001b[0;32mnot\u001b[0m \u001b[0;32mNone\u001b[0m\u001b[0;34m:\u001b[0m\u001b[0;34m\u001b[0m\u001b[0;34m\u001b[0m\u001b[0m\n",
      "\u001b[0;31mKeyboardInterrupt\u001b[0m: "
     ]
    }
   ],
   "source": [
    "data = nModel.train_and_evaluate()\n",
    "data"
   ]
  },
  {
   "cell_type": "code",
   "execution_count": 15,
   "metadata": {},
   "outputs": [
    {
     "data": {
      "text/plain": "{'loss': [1.8895489448547362,\n  1.4495863836288452,\n  1.402880509185791,\n  1.402955818748474],\n 'accuracy': [0.3231, 0.46195, 0.4816, 0.480025],\n 'val_loss': [107566.1637,\n  192.51275043945313,\n  17.174112457275392,\n  3.8490982215881346],\n 'val_accuracy': [0.1027, 0.1282, 0.1211, 0.1787]}"
     },
     "execution_count": 15,
     "metadata": {},
     "output_type": "execute_result"
    }
   ],
   "source": [
    "history.history"
   ]
  },
  {
   "cell_type": "code",
   "execution_count": 16,
   "metadata": {},
   "outputs": [
    {
     "name": "stdout",
     "output_type": "stream",
     "text": "10000/10000 [==============================] - 4s 403us/sample - loss: 3.9102 - accuracy: 0.1745\n"
    },
    {
     "data": {
      "text/plain": "[3.9102051452636717, 0.1745]"
     },
     "execution_count": 16,
     "metadata": {},
     "output_type": "execute_result"
    }
   ],
   "source": [
    "model.evaluate(test_images, test_labels)"
   ]
  },
  {
   "cell_type": "code",
   "execution_count": 17,
   "metadata": {},
   "outputs": [
    {
     "name": "stdout",
     "output_type": "stream",
     "text": "3742346\n"
    },
    {
     "data": {
      "text/plain": "3728906"
     },
     "execution_count": 17,
     "metadata": {},
     "output_type": "execute_result"
    }
   ],
   "source": [
    "print(model.count_params())\n",
    "np.sum([np.prod(v.get_shape().as_list()) for v in model.trainable_variables])"
   ]
  },
  {
   "cell_type": "code",
   "execution_count": 18,
   "metadata": {},
   "outputs": [
    {
     "data": {
      "text/plain": "{'batch_size': 256,\n 'epochs': 4,\n 'steps': 157,\n 'samples': 40000,\n 'verbose': 0,\n 'do_validation': True,\n 'metrics': ['loss', 'accuracy', 'val_loss', 'val_accuracy']}"
     },
     "execution_count": 18,
     "metadata": {},
     "output_type": "execute_result"
    }
   ],
   "source": [
    "model.history.params"
   ]
  },
  {
   "cell_type": "code",
   "execution_count": 22,
   "metadata": {},
   "outputs": [
    {
     "data": {
      "text/plain": "{'loss': [1.4638422157287598,\n  1.1612712270736694,\n  1.1123817365646362,\n  1.1109454036712647],\n 'accuracy': [0.4653, 0.57965, 0.59985, 0.6013],\n 'val_loss': [3.754738680267334,\n  7.283068478393555,\n  3.8965704246521,\n  2.236551708984375],\n 'val_accuracy': [0.1128, 0.1562, 0.27, 0.3833]}"
     },
     "execution_count": 22,
     "metadata": {},
     "output_type": "execute_result"
    }
   ],
   "source": [
    "model.history.history"
   ]
  },
  {
   "cell_type": "code",
   "execution_count": 20,
   "metadata": {},
   "outputs": [
    {
     "data": {
      "text/plain": "0.480025"
     },
     "execution_count": 20,
     "metadata": {},
     "output_type": "execute_result"
    }
   ],
   "source": [
    "model.history.history[\"accuracy\"][-1]"
   ]
  },
  {
   "cell_type": "code",
   "execution_count": 21,
   "metadata": {},
   "outputs": [
    {
     "name": "stdout",
     "output_type": "stream",
     "text": "Train on 40000 samples, validate on 10000 samples\nEpoch 1/4\n40000/40000 [==============================] - 40s 992us/sample - loss: 1.4638 - accuracy: 0.4653 - val_loss: 3.7547 - val_accuracy: 0.1128\nEpoch 2/4\n40000/40000 [==============================] - 36s 895us/sample - loss: 1.1613 - accuracy: 0.5796 - val_loss: 7.2831 - val_accuracy: 0.1562\nEpoch 3/4\n40000/40000 [==============================] - 36s 899us/sample - loss: 1.1124 - accuracy: 0.5998 - val_loss: 3.8966 - val_accuracy: 0.2700\nEpoch 4/4\n40000/40000 [==============================] - 36s 895us/sample - loss: 1.1109 - accuracy: 0.6013 - val_loss: 2.2366 - val_accuracy: 0.3833\n10000/10000 [==============================] - 4s 391us/sample - loss: 2.2466 - accuracy: 0.3829\n"
    },
    {
     "data": {
      "text/plain": "{'trainable_parameters': 3728906,\n 'params': {'batch_size': 256,\n  'epochs': 4,\n  'steps': 157,\n  'samples': 40000,\n  'verbose': 0,\n  'do_validation': True,\n  'metrics': ['loss', 'accuracy', 'val_loss', 'val_accuracy']},\n 'history': {'loss': [1.4638422157287598,\n   1.1612712270736694,\n   1.1123817365646362,\n   1.1109454036712647],\n  'accuracy': [0.4653, 0.57965, 0.59985, 0.6013],\n  'val_loss': [3.754738680267334,\n   7.283068478393555,\n   3.8965704246521,\n   2.236551708984375],\n  'val_accuracy': [0.1128, 0.1562, 0.27, 0.3833]},\n 'training_time': 147.2608449459076,\n 'train_accuracy': 0.6013,\n 'validation_accuracy': 0.3833,\n 'test_accuracy': 0.3829}"
     },
     "execution_count": 21,
     "metadata": {},
     "output_type": "execute_result"
    }
   ],
   "source": [
    "data = nModel.train_and_evaluate()\n",
    "data"
   ]
  },
  {
   "cell_type": "code",
   "execution_count": null,
   "metadata": {},
   "outputs": [],
   "source": []
  }
 ]
}