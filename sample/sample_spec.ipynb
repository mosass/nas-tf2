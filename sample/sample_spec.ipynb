{
 "nbformat": 4,
 "nbformat_minor": 2,
 "metadata": {
  "language_info": {
   "name": "python",
   "codemirror_mode": {
    "name": "ipython",
    "version": 2
   },
   "version": "3.7.5-final"
  },
  "orig_nbformat": 2,
  "file_extension": ".py",
  "mimetype": "text/x-python",
  "name": "python",
  "npconvert_exporter": "python",
  "pygments_lexer": "ipython2",
  "version": 2,
  "kernelspec": {
   "name": "python37564bittf2venvc8b629ebe0524d9f9a8acaa915081f11",
   "display_name": "Python 3.7.5 64-bit ('tf2': venv)"
  }
 },
 "cells": [
  {
   "cell_type": "code",
   "execution_count": 41,
   "metadata": {},
   "outputs": [
    {
     "name": "stdout",
     "output_type": "stream",
     "text": "[[0 1 1]\n [0 0 1]\n [0 0 0]]\n['input', 'conv1x1-bn-relu', 'output']\n"
    }
   ],
   "source": [
    "from model import spec as sp\n",
    "\n",
    "config = sp.Spec.get_configuration_space().sample_configuration();\n",
    "sample = sp.Spec(config)\n",
    "\n",
    "print(sample.matrix)\n",
    "print(sample.ops)"
   ]
  },
  {
   "cell_type": "code",
   "execution_count": null,
   "metadata": {},
   "outputs": [],
   "source": []
  }
 ]
}