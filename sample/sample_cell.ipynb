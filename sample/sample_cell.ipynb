{
 "nbformat": 4,
 "nbformat_minor": 2,
 "metadata": {
  "language_info": {
   "name": "python",
   "codemirror_mode": {
    "name": "ipython",
    "version": 2
   },
   "version": "3.7.5-final"
  },
  "orig_nbformat": 2,
  "file_extension": ".py",
  "mimetype": "text/x-python",
  "name": "python",
  "npconvert_exporter": "python",
  "pygments_lexer": "ipython2",
  "version": 2,
  "kernelspec": {
   "name": "python37564bittf2venvc8b629ebe0524d9f9a8acaa915081f11",
   "display_name": "Python 3.7.5 64-bit ('tf2': venv)"
  }
 },
 "cells": [
  {
   "cell_type": "code",
   "execution_count": 1,
   "metadata": {},
   "outputs": [],
   "source": [
    "from __future__ import absolute_import, division, print_function, unicode_literals\n",
    "\n",
    "import tensorflow as tf\n",
    "import matplotlib.pyplot as plt\n",
    "import model.cell as cell\n",
    "import model.spec as spec\n",
    "import numpy as np\n",
    "\n",
    "\n",
    "(train_images, train_labels), (test_images, test_labels) = tf.keras.datasets.cifar10.load_data()\n",
    "\n",
    "# Normalize pixel values to be between 0 and 1\n",
    "train_images, test_images = train_images / 255.0, test_images / 255.0"
   ]
  },
  {
   "cell_type": "code",
   "execution_count": 2,
   "metadata": {},
   "outputs": [
    {
     "data": {
      "text/plain": "(50000, 32, 32, 3)"
     },
     "execution_count": 2,
     "metadata": {},
     "output_type": "execute_result"
    }
   ],
   "source": [
    "np.shape(train_images)"
   ]
  },
  {
   "cell_type": "code",
   "execution_count": 3,
   "metadata": {},
   "outputs": [
    {
     "name": "stdout",
     "output_type": "stream",
     "text": "Model: \"sample_cell\"\n__________________________________________________________________________________________________\nLayer (type)                    Output Shape         Param #     Connected to                     \n==================================================================================================\ninput_1 (InputLayer)            [(None, 32, 32, 3)]  0                                            \n__________________________________________________________________________________________________\nconv2d_18 (Conv2D)              (None, 32, 32, 256)  768         input_1[0][0]                    \n__________________________________________________________________________________________________\nbatch_normalization_18 (BatchNo (None, 32, 32, 256)  1024        conv2d_18[0][0]                  \n__________________________________________________________________________________________________\nconv2d_19 (Conv2D)              (None, 32, 32, 256)  768         input_1[0][0]                    \n__________________________________________________________________________________________________\nre_lu_18 (ReLU)                 (None, 32, 32, 256)  0           batch_normalization_18[0][0]     \n__________________________________________________________________________________________________\nbatch_normalization_19 (BatchNo (None, 32, 32, 256)  1024        conv2d_19[0][0]                  \n__________________________________________________________________________________________________\nmax_pooling2d_14 (MaxPooling2D) (None, 32, 32, 256)  0           re_lu_18[0][0]                   \n__________________________________________________________________________________________________\nre_lu_19 (ReLU)                 (None, 32, 32, 256)  0           batch_normalization_19[0][0]     \n__________________________________________________________________________________________________\nadd_6 (Add)                     (None, 32, 32, 256)  0           max_pooling2d_14[0][0]           \n                                                                 re_lu_19[0][0]                   \n__________________________________________________________________________________________________\nconv2d_20 (Conv2D)              (None, 32, 32, 256)  589824      add_6[0][0]                      \n__________________________________________________________________________________________________\nbatch_normalization_20 (BatchNo (None, 32, 32, 256)  1024        conv2d_20[0][0]                  \n__________________________________________________________________________________________________\nre_lu_20 (ReLU)                 (None, 32, 32, 256)  0           batch_normalization_20[0][0]     \n__________________________________________________________________________________________________\nmax_pooling2d_15 (MaxPooling2D) (None, 32, 32, 256)  0           max_pooling2d_14[0][0]           \n__________________________________________________________________________________________________\nconcatenate_6 (Concatenate)     (None, 32, 32, 512)  0           re_lu_20[0][0]                   \n                                                                 max_pooling2d_15[0][0]           \n__________________________________________________________________________________________________\nconv2d_21 (Conv2D)              (None, 32, 32, 256)  131072      concatenate_6[0][0]              \n__________________________________________________________________________________________________\nbatch_normalization_21 (BatchNo (None, 32, 32, 256)  1024        conv2d_21[0][0]                  \n__________________________________________________________________________________________________\nconv2d_22 (Conv2D)              (None, 32, 32, 256)  131072      concatenate_6[0][0]              \n__________________________________________________________________________________________________\nre_lu_21 (ReLU)                 (None, 32, 32, 256)  0           batch_normalization_21[0][0]     \n__________________________________________________________________________________________________\nbatch_normalization_22 (BatchNo (None, 32, 32, 256)  1024        conv2d_22[0][0]                  \n__________________________________________________________________________________________________\nmax_pooling2d_16 (MaxPooling2D) (None, 32, 32, 256)  0           re_lu_21[0][0]                   \n__________________________________________________________________________________________________\nre_lu_22 (ReLU)                 (None, 32, 32, 256)  0           batch_normalization_22[0][0]     \n__________________________________________________________________________________________________\nadd_7 (Add)                     (None, 32, 32, 256)  0           max_pooling2d_16[0][0]           \n                                                                 re_lu_22[0][0]                   \n__________________________________________________________________________________________________\nconv2d_23 (Conv2D)              (None, 32, 32, 256)  589824      add_7[0][0]                      \n__________________________________________________________________________________________________\nbatch_normalization_23 (BatchNo (None, 32, 32, 256)  1024        conv2d_23[0][0]                  \n__________________________________________________________________________________________________\nre_lu_23 (ReLU)                 (None, 32, 32, 256)  0           batch_normalization_23[0][0]     \n__________________________________________________________________________________________________\nmax_pooling2d_17 (MaxPooling2D) (None, 32, 32, 256)  0           max_pooling2d_16[0][0]           \n__________________________________________________________________________________________________\nconcatenate_7 (Concatenate)     (None, 32, 32, 512)  0           re_lu_23[0][0]                   \n                                                                 max_pooling2d_17[0][0]           \n__________________________________________________________________________________________________\nconv2d_24 (Conv2D)              (None, 32, 32, 256)  131072      concatenate_7[0][0]              \n__________________________________________________________________________________________________\nbatch_normalization_24 (BatchNo (None, 32, 32, 256)  1024        conv2d_24[0][0]                  \n__________________________________________________________________________________________________\nconv2d_25 (Conv2D)              (None, 32, 32, 256)  131072      concatenate_7[0][0]              \n__________________________________________________________________________________________________\nre_lu_24 (ReLU)                 (None, 32, 32, 256)  0           batch_normalization_24[0][0]     \n__________________________________________________________________________________________________\nbatch_normalization_25 (BatchNo (None, 32, 32, 256)  1024        conv2d_25[0][0]                  \n__________________________________________________________________________________________________\nmax_pooling2d_18 (MaxPooling2D) (None, 32, 32, 256)  0           re_lu_24[0][0]                   \n__________________________________________________________________________________________________\nre_lu_25 (ReLU)                 (None, 32, 32, 256)  0           batch_normalization_25[0][0]     \n__________________________________________________________________________________________________\nadd_8 (Add)                     (None, 32, 32, 256)  0           max_pooling2d_18[0][0]           \n                                                                 re_lu_25[0][0]                   \n__________________________________________________________________________________________________\nconv2d_26 (Conv2D)              (None, 32, 32, 256)  589824      add_8[0][0]                      \n__________________________________________________________________________________________________\nbatch_normalization_26 (BatchNo (None, 32, 32, 256)  1024        conv2d_26[0][0]                  \n__________________________________________________________________________________________________\nre_lu_26 (ReLU)                 (None, 32, 32, 256)  0           batch_normalization_26[0][0]     \n__________________________________________________________________________________________________\nmax_pooling2d_19 (MaxPooling2D) (None, 32, 32, 256)  0           max_pooling2d_18[0][0]           \n__________________________________________________________________________________________________\nconcatenate_8 (Concatenate)     (None, 32, 32, 512)  0           re_lu_26[0][0]                   \n                                                                 max_pooling2d_19[0][0]           \n__________________________________________________________________________________________________\ntf_op_layer_Mean (TensorFlowOpL [(None, 512)]        0           concatenate_8[0][0]              \n__________________________________________________________________________________________________\nflatten (Flatten)               (None, 512)          0           tf_op_layer_Mean[0][0]           \n__________________________________________________________________________________________________\ndense (Dense)                   (None, 64)           32832       flatten[0][0]                    \n__________________________________________________________________________________________________\ndense_1 (Dense)                 (None, 10)           650         dense[0][0]                      \n==================================================================================================\nTotal params: 2,337,994\nTrainable params: 2,333,386\nNon-trainable params: 4,608\n__________________________________________________________________________________________________\n[[0 1 1 0 1]\n [0 0 1 1 0]\n [0 0 0 0 1]\n [0 0 0 0 1]\n [0 0 0 0 0]]\n['input', 'maxpool3x3', 'conv3x3-bn-relu', 'maxpool3x3', 'output']\n"
    }
   ],
   "source": [
    "\n",
    "cf = spec.Spec.get_configuration_space().sample_configuration()\n",
    "s = spec.Spec(cf)\n",
    "while s.valid_spec == False:\n",
    "    cf = spec.Spec.get_configuration_space().sample_configuration()\n",
    "    s = spec.Spec(cf)\n",
    "\n",
    "i = tf.keras.Input(shape=(32, 32, 3))\n",
    "c = cell.Cell(s, 128, i).build()\n",
    "c = cell.Cell(s, 128, c).build()\n",
    "c = cell.Cell(s, 128, c).build()\n",
    "c = tf.keras.layers.MaxPool2D(pool_size=(2,2), strides=(2,2), padding='same')(c)\n",
    "c = cell.Cell(s, 256, i).build()\n",
    "c = cell.Cell(s, 256, c).build()\n",
    "c = cell.Cell(s, 256, c).build()\n",
    "c = tf.keras.layers.MaxPool2D(pool_size=(2,2), strides=(2,2), padding='same')(c)\n",
    "c = cell.Cell(s, 512, i).build()\n",
    "c = cell.Cell(s, 512, c).build()\n",
    "c = cell.Cell(s, 512, c).build()\n",
    "c = tf.reduce_mean(c, [1,2])\n",
    "o = tf.keras.layers.Flatten()(c)\n",
    "o = tf.keras.layers.Dense(64, activation='softmax')(o)\n",
    "o = tf.keras.layers.Dense(10)(o)\n",
    "model = tf.keras.Model(i, o, name=\"sample_model\")\n",
    "model.summary()\n",
    "\n",
    "print(s.matrix)\n",
    "print(s.ops)"
   ]
  },
  {
   "cell_type": "code",
   "execution_count": 12,
   "metadata": {},
   "outputs": [
    {
     "name": "stdout",
     "output_type": "stream",
     "text": "Train on 50000 samples, validate on 10000 samples\nEpoch 1/5\n50000/50000 [==============================] - 119s 2ms/sample - loss: 2.0220 - accuracy: 0.2327 - val_loss: 2.0005 - val_accuracy: 0.2232\nEpoch 2/5\n50000/50000 [==============================] - 118s 2ms/sample - loss: 1.7944 - accuracy: 0.2762 - val_loss: 1.7252 - val_accuracy: 0.3222\nEpoch 3/5\n50000/50000 [==============================] - 118s 2ms/sample - loss: 1.6495 - accuracy: 0.3536 - val_loss: 1.5758 - val_accuracy: 0.3860\nEpoch 4/5\n50000/50000 [==============================] - 118s 2ms/sample - loss: 1.5153 - accuracy: 0.3996 - val_loss: 1.5557 - val_accuracy: 0.3832\nEpoch 5/5\n50000/50000 [==============================] - 118s 2ms/sample - loss: 1.4271 - accuracy: 0.4275 - val_loss: 1.4736 - val_accuracy: 0.4069\n"
    }
   ],
   "source": [
    "model.compile(optimizer='adam',\n",
    "              loss=tf.keras.losses.SparseCategoricalCrossentropy(from_logits=True),\n",
    "              metrics=['accuracy'])\n",
    "history = model.fit(train_images, train_labels, epochs=5, validation_data=(test_images, test_labels))"
   ]
  },
  {
   "cell_type": "code",
   "execution_count": null,
   "metadata": {},
   "outputs": [],
   "source": []
  }
 ]
}