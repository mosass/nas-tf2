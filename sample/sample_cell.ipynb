{
 "nbformat": 4,
 "nbformat_minor": 2,
 "metadata": {
  "language_info": {
   "name": "python",
   "codemirror_mode": {
    "name": "ipython",
    "version": 2
   },
   "version": "3.7.5-final"
  },
  "orig_nbformat": 2,
  "file_extension": ".py",
  "mimetype": "text/x-python",
  "name": "python",
  "npconvert_exporter": "python",
  "pygments_lexer": "ipython2",
  "version": 2,
  "kernelspec": {
   "name": "python37564bittf2venvc8b629ebe0524d9f9a8acaa915081f11",
   "display_name": "Python 3.7.5 64-bit ('tf2': venv)"
  }
 },
 "cells": [
  {
   "cell_type": "code",
   "execution_count": 8,
   "metadata": {},
   "outputs": [
    {
     "output_type": "stream",
     "name": "stdout",
     "text": "[[0 1 1 1 0 0 1]\n [0 0 1 1 0 0 1]\n [0 0 0 1 1 0 0]\n [0 0 0 0 1 0 1]\n [0 0 0 0 0 1 0]\n [0 0 0 0 0 0 1]\n [0 0 0 0 0 0 0]]\n['input', 'conv1x1-bn-relu', 'conv1x1-bn-relu', 'conv3x3-bn-relu', 'conv3x3-bn-relu', 'conv3x3-bn-relu', 'output']\n"
    },
    {
     "output_type": "execute_result",
     "data": {
      "text/plain": "[128, 43, 43, 43, 42, 42, 128]"
     },
     "metadata": {},
     "execution_count": 8
    }
   ],
   "source": [
    "import model.cell as cell\n",
    "import model.spec as spec\n",
    "\n",
    "cf = spec.Spec.get_configuration_space().sample_configuration()\n",
    "s = spec.Spec(cf)\n",
    "c = cell.Cell(s, 128)\n",
    "\n",
    "print(s.matrix)\n",
    "print(s.ops)\n",
    "c.compute_vertex_channels(128, 128, s.matrix)"
   ]
  },
  {
   "cell_type": "code",
   "execution_count": null,
   "metadata": {},
   "outputs": [],
   "source": []
  }
 ]
}